{
 "cells": [
  {
   "cell_type": "code",
   "execution_count": 2,
   "metadata": {
    "collapsed": false,
    "deletable": true,
    "editable": true
   },
   "outputs": [
    {
     "data": {
      "text/html": [
       "<script>requirejs.config({paths: { 'plotly': ['https://cdn.plot.ly/plotly-latest.min']},});if(!window.Plotly) {{require(['plotly'],function(plotly) {window.Plotly=plotly;});}}</script>"
      ],
      "text/plain": [
       "<IPython.core.display.HTML object>"
      ]
     },
     "metadata": {},
     "output_type": "display_data"
    }
   ],
   "source": [
    "from plotly import __version__\n",
    "from plotly.offline import download_plotlyjs, init_notebook_mode, plot, iplot\n",
    "init_notebook_mode(connected=True)"
   ]
  },
  {
   "cell_type": "code",
   "execution_count": 3,
   "metadata": {
    "collapsed": false,
    "deletable": true,
    "editable": true
   },
   "outputs": [
    {
     "data": {
      "application/vnd.plotly.v1+json": {
       "data": [
        {
         "x": [
          1,
          2,
          3
         ],
         "y": [
          3,
          1,
          6
         ]
        }
       ],
       "layout": {}
      },
      "text/html": [
       "<div id=\"33bfa81e-7e84-4a65-8760-fffb50dca335\" style=\"height: 525px; width: 100%;\" class=\"plotly-graph-div\"></div><script type=\"text/javascript\">require([\"plotly\"], function(Plotly) { window.PLOTLYENV=window.PLOTLYENV || {};window.PLOTLYENV.BASE_URL=\"https://plot.ly\";Plotly.newPlot(\"33bfa81e-7e84-4a65-8760-fffb50dca335\", [{\"y\": [3, 1, 6], \"x\": [1, 2, 3]}], {}, {\"linkText\": \"Export to plot.ly\", \"showLink\": true})});</script>"
      ]
     },
     "metadata": {},
     "output_type": "display_data"
    }
   ],
   "source": [
    "iplot([{\"x\": [1, 2, 3], \"y\": [3, 1, 6]}])\n"
   ]
  },
  {
   "cell_type": "code",
   "execution_count": 38,
   "metadata": {
    "collapsed": false,
    "deletable": true,
    "editable": true
   },
   "outputs": [
    {
     "data": {
      "application/vnd.plotly.v1+json": {
       "data": [
        {
         "type": "scatter",
         "x": [
          "2013-10-04 22:23:00",
          "2013-11-04 22:23:00",
          "2013-12-04 22:23:00"
         ],
         "y": [
          1,
          3,
          6
         ]
        }
       ],
       "layout": {}
      },
      "text/html": [
       "<div id=\"59e84e77-4484-4552-be04-d2b481113cb8\" style=\"height: 525px; width: 100%;\" class=\"plotly-graph-div\"></div><script type=\"text/javascript\">require([\"plotly\"], function(Plotly) { window.PLOTLYENV=window.PLOTLYENV || {};window.PLOTLYENV.BASE_URL=\"https://plot.ly\";Plotly.newPlot(\"59e84e77-4484-4552-be04-d2b481113cb8\", [{\"y\": [1, 3, 6], \"x\": [\"2013-10-04 22:23:00\", \"2013-11-04 22:23:00\", \"2013-12-04 22:23:00\"], \"type\": \"scatter\"}], {}, {\"linkText\": \"Export to plot.ly\", \"showLink\": true})});</script>"
      ]
     },
     "metadata": {},
     "output_type": "display_data"
    }
   ],
   "source": [
    "import plotly.offline as py\n",
    "import plotly.graph_objs as go\n",
    "import plotly.figure_factory as FF\n",
    "\n",
    "data = [go.Scatter(\n",
    "          x=['2013-10-04 22:23:00', '2013-11-04 22:23:00', '2013-12-04 22:23:00'],\n",
    "          y=[1, 3, 6])]\n",
    "py.iplot(data)\n"
   ]
  },
  {
   "cell_type": "code",
   "execution_count": 92,
   "metadata": {
    "collapsed": false,
    "deletable": true,
    "editable": true
   },
   "outputs": [
    {
     "name": "stdout",
     "output_type": "stream",
     "text": [
      "usingCharsetInHTML:UTF-8 1465\n",
      "dol:6524 1\n",
      "tries:5t 36\n",
      "hop:P 2928\n",
      "hop:- 1641\n",
      "tries:4t 9\n",
      "WrenderedURL 1618\n",
      "usingCharsetInHTML:windows-1252 106\n",
      "robotExcluded 186\n",
      "dol:6581 1\n",
      "unsatisfiableCharsetInHeader:binary 10\n",
      "hop:I 154\n",
      "hop:L 86368\n",
      "hop:X 19231\n",
      "hop:R 2526\n",
      "lines 234027\n",
      "hop:E 121179\n",
      "duplicate:digest 133653\n",
      "tries:3t 1441\n",
      "tries:2t 399\n"
     ]
    }
   ],
   "source": [
    "import re\n",
    "import json\n",
    "\n",
    "ALL = 'All'\n",
    "S200 = '200 Found'\n",
    "SM9998 = '-9998 Blocked by robots.txt'\n",
    "\n",
    "hours = []\n",
    "lines = {}\n",
    "lines[ALL] = []\n",
    "lines[S200] = []\n",
    "lines[SM9998] = []\n",
    "\n",
    "summary_file = 'weekly-20170220090024-crawl.log.cp00001-20170220150034.analysis.tsjson'\n",
    "\n",
    "with open(summary_file) as f:\n",
    "    for line in f:\n",
    "        key, json_str = re.split('\\t', line, maxsplit=1)\n",
    "        if key.startswith(\"BY-HOUR\"):\n",
    "            tag, time = re.split(' ', key, maxsplit=1)\n",
    "            stats = json.loads(json_str)\n",
    "            if len(hours) == 0:\n",
    "                for stat in stats:\n",
    "                    if not stat.startswith('source:') and not stat.startswith('ip:') and not stat.startswith('content_type:') and not stat.startswith('status_code:'):\n",
    "                        print(\"%s %i\" % (stat, stats[stat]))\n",
    "            hours.append(time)\n",
    "            lines[ALL].append(stats['lines'])\n",
    "            lines[S200].append(stats['status_code:200'])\n",
    "            lines[SM9998].append(stats['status_code:-9998'])"
   ]
  },
  {
   "cell_type": "code",
   "execution_count": 93,
   "metadata": {
    "collapsed": false,
    "deletable": true,
    "editable": true
   },
   "outputs": [
    {
     "data": {
      "application/vnd.plotly.v1+json": {
       "data": [
        {
         "name": "All",
         "type": "scatter",
         "x": [
          "2017-02-20T09:00:00",
          "2017-02-20T10:00:00",
          "2017-02-20T11:00:00",
          "2017-02-20T12:00:00",
          "2017-02-20T13:00:00",
          "2017-02-20T14:00:00",
          "2017-02-20T15:00:00"
         ],
         "y": [
          234027,
          503462,
          503403,
          506877,
          483301,
          564799,
          3742
         ]
        },
        {
         "name": "200 Found",
         "type": "scatter",
         "x": [
          "2017-02-20T09:00:00",
          "2017-02-20T10:00:00",
          "2017-02-20T11:00:00",
          "2017-02-20T12:00:00",
          "2017-02-20T13:00:00",
          "2017-02-20T14:00:00",
          "2017-02-20T15:00:00"
         ],
         "y": [
          203833,
          415191,
          419570,
          432875,
          412428,
          456180,
          2920
         ]
        },
        {
         "name": "-9998 Blocked by robots.txt",
         "type": "scatter",
         "x": [
          "2017-02-20T09:00:00",
          "2017-02-20T10:00:00",
          "2017-02-20T11:00:00",
          "2017-02-20T12:00:00",
          "2017-02-20T13:00:00",
          "2017-02-20T14:00:00",
          "2017-02-20T15:00:00"
         ],
         "y": [
          8772,
          20049,
          22427,
          14115,
          12529,
          28673,
          290
         ]
        }
       ],
       "layout": {
        "title": "Status codes over time (whole crawl)"
       }
      },
      "text/html": [
       "<div id=\"787be4ae-1b3b-4335-8cdf-fe4a2e9b3734\" style=\"height: 525px; width: 100%;\" class=\"plotly-graph-div\"></div><script type=\"text/javascript\">require([\"plotly\"], function(Plotly) { window.PLOTLYENV=window.PLOTLYENV || {};window.PLOTLYENV.BASE_URL=\"https://plot.ly\";Plotly.newPlot(\"787be4ae-1b3b-4335-8cdf-fe4a2e9b3734\", [{\"y\": [234027, 503462, 503403, 506877, 483301, 564799, 3742], \"x\": [\"2017-02-20T09:00:00\", \"2017-02-20T10:00:00\", \"2017-02-20T11:00:00\", \"2017-02-20T12:00:00\", \"2017-02-20T13:00:00\", \"2017-02-20T14:00:00\", \"2017-02-20T15:00:00\"], \"type\": \"scatter\", \"name\": \"All\"}, {\"y\": [203833, 415191, 419570, 432875, 412428, 456180, 2920], \"x\": [\"2017-02-20T09:00:00\", \"2017-02-20T10:00:00\", \"2017-02-20T11:00:00\", \"2017-02-20T12:00:00\", \"2017-02-20T13:00:00\", \"2017-02-20T14:00:00\", \"2017-02-20T15:00:00\"], \"type\": \"scatter\", \"name\": \"200 Found\"}, {\"y\": [8772, 20049, 22427, 14115, 12529, 28673, 290], \"x\": [\"2017-02-20T09:00:00\", \"2017-02-20T10:00:00\", \"2017-02-20T11:00:00\", \"2017-02-20T12:00:00\", \"2017-02-20T13:00:00\", \"2017-02-20T14:00:00\", \"2017-02-20T15:00:00\"], \"type\": \"scatter\", \"name\": \"-9998 Blocked by robots.txt\"}], {\"title\": \"Status codes over time (whole crawl)\"}, {\"linkText\": \"Export to plot.ly\", \"showLink\": true})});</script>"
      ]
     },
     "metadata": {},
     "output_type": "display_data"
    }
   ],
   "source": [
    "        \n",
    "data = []\n",
    "for key in lines:\n",
    "    data.append( go.Scatter(x=hours,y=lines[key],name=key) )\n",
    "py.iplot({ \n",
    "      'data': data, \n",
    "      'layout': {'title': 'Status codes over time (whole crawl)'}\n",
    "    })\n"
   ]
  },
  {
   "cell_type": "code",
   "execution_count": 98,
   "metadata": {
    "collapsed": false,
    "deletable": true,
    "editable": true
   },
   "outputs": [
    {
     "name": "stdout",
     "output_type": "stream",
     "text": [
      "hop:I 8\n",
      "hop:L 44636\n",
      "hop:E 16\n",
      "hop:R 151\n",
      "hop:P 5\n",
      "hop:X 1\n",
      "tries:5t 1\n",
      "duplicate:digest 43670\n",
      "tries:2t 241\n",
      "tries:3t 9\n",
      "lines 44817\n",
      "TOP...\n",
      "{u'ip:72.247.176.10': 1, u'ip:67.199.248.10': 1, u'ip:67.199.248.11': 1, u'ip:72.247.176.19': 4, u'ip:212.58.244.66': 9, u'ip:31.24.80.101': 3, u'hop:I': 8, u'hop:L': 2416, u'ip:52.222.236.229': 1, u'hop:E': 7955, u'ip:81.20.48.174': 3, u'hop:X': 1010, u'hop:R': 44, u'hop:P': 25, u'ip:80.231.122.152': 1, u'hop:-': 1, u'content_type:text/plain': 7, u'content_type:font/ttf': 42, u'ip:151.101.64.144': 2, u'status_code:200': 11008, u'content_type:image/vnd.microsoft.icon': 1, u'source:http://www.theweek.co.uk/': 11459, u'content_type:image/svg+xml': 47, u'ip:34.250.100.127': 1, u'ip:52.222.232.134': 3915, u'ip:104.28.31.9': 6, u'ip:80.231.122.143': 1, u'ip:72.247.176.32': 9, u'content_type:unknown': 82, u'ip:52.222.236.12': 2, u'ip:50.17.110.223': 1, u'content_type:text/dns': 12, u'ip:212.58.246.106': 3, u'ip:213.138.113.119': 2, u'ip:191.235.208.12': 1, u'ip:80.231.122.161': 15, u'ip:72.247.176.25': 6, u'content_type:application/vnd.ms-fontobject': 42, u'ip:23.40.8.139': 2, u'ip:151.101.65.111': 34, u'ip:52.222.232.11': 3755, u'usingCharsetInHTML:UTF-8': 3, u'content_type:image/png': 84, u'ip:52.205.213.178': 1, u'content_type:image/gif': 18, u'ip:88.221.87.139': 23, u'ip:2.17.23.17': 16, u'ip:212.58.246.92': 2, u'ip:212.58.246.91': 2, u'ip:52.222.232.113': 2815, u'ip:54.231.142.74': 3, u'ip:72.247.176.57': 27, u'ip:72.247.176.50': 1, u'ip:88.221.88.10': 4, u'status_code:503': 3, u'ip:149.126.74.108': 4, u'ip:151.101.60.129': 1, u'ip:54.247.85.154': 3506, u'content_type:application/json': 1, u'ip:52.222.236.66': 1, u'ip:72.247.176.40': 3, u'duplicate:digest': 6482, u'ip:52.18.124.177': 3, u'content_type:text/css': 27, u'ip:88.221.87.166': 3, u'WrenderedURL': 1, u'content_type:text/xml': 1, u'status_code:1': 12, u'ip:151.249.94.198': 6, u'content_type:application/x-javascript': 1, u'content_type:image/jpeg': 7414, u'ip:192.33.31.52': 2, u'ip:31.13.93.36': 1, u'ip:192.0.73.2': 2, u'tries:2t': 3, u'content_type:application/xml': 3, u'ip:104.127.17.84': 2, u'ip:216.58.213.98': 1, u'ip:52.222.232.146': 2974, u'status_code:404': 57, u'status_code:403': 26, u'status_code:401': 3, u'ip:52.222.236.129': 3, u'content_type:image/x-icon': 2, u'ip:52.218.16.233': 2, u'ip:31.13.92.36': 1, u'content_type:application/javascript': 12, u'ip:91.194.205.25': 1, u'ip:72.21.91.19': 3, u'status_code:301': 253, u'status_code:302': 29, u'content_type:text/html': 3488, u'tries:3t': 12, u'ip:88.221.87.146': 2, u'ip:88.221.87.145': 55, u'ip:151.101.64.84': 4, u'content_type:application/font-woff': 74, u'lines': 11459, u'ip:185.33.6.61': 4, u'ip:216.58.208.130': 1, u'status_code:-9998': 68, u'ip:88.221.88.51': 1, u'content_type:application/rss+xml': 101}\n"
     ]
    },
    {
     "data": {
      "application/vnd.plotly.v1+json": {
       "data": [
        {
         "colorscale": [
          [
           0,
           "#00083e"
          ],
          [
           0.5,
           "#ededee"
          ],
          [
           1,
           "#ffffff"
          ]
         ],
         "hoverinfo": "none",
         "opacity": 0.75,
         "showscale": false,
         "type": "heatmap",
         "z": [
          [
           0,
           0
          ],
          [
           0.5,
           0.5
          ],
          [
           1,
           1
          ],
          [
           0.5,
           0.5
          ],
          [
           1,
           1
          ],
          [
           0.5,
           0.5
          ],
          [
           1,
           1
          ],
          [
           0.5,
           0.5
          ],
          [
           1,
           1
          ],
          [
           0.5,
           0.5
          ],
          [
           1,
           1
          ],
          [
           0.5,
           0.5
          ],
          [
           1,
           1
          ],
          [
           0.5,
           0.5
          ],
          [
           1,
           1
          ],
          [
           0.5,
           0.5
          ],
          [
           1,
           1
          ],
          [
           0.5,
           0.5
          ],
          [
           1,
           1
          ],
          [
           0.5,
           0.5
          ],
          [
           1,
           1
          ]
         ]
        }
       ],
       "layout": {
        "annotations": [
         {
          "align": "left",
          "font": {
           "color": "#ffffff"
          },
          "showarrow": false,
          "text": "<b>Seed</b>",
          "x": -0.45,
          "xanchor": "left",
          "xref": "x1",
          "y": 0,
          "yref": "y1"
         },
         {
          "align": "left",
          "font": {
           "color": "#ffffff"
          },
          "showarrow": false,
          "text": "<b>Total Hits</b>",
          "x": 0.55,
          "xanchor": "left",
          "xref": "x1",
          "y": 0,
          "yref": "y1"
         },
         {
          "align": "left",
          "font": {
           "color": "#000000"
          },
          "showarrow": false,
          "text": "-",
          "x": -0.45,
          "xanchor": "left",
          "xref": "x1",
          "y": 1,
          "yref": "y1"
         },
         {
          "align": "left",
          "font": {
           "color": "#000000"
          },
          "showarrow": false,
          "text": "44817",
          "x": 0.55,
          "xanchor": "left",
          "xref": "x1",
          "y": 1,
          "yref": "y1"
         },
         {
          "align": "left",
          "font": {
           "color": "#000000"
          },
          "showarrow": false,
          "text": "http://www.bloggers4ukip.org.uk/",
          "x": -0.45,
          "xanchor": "left",
          "xref": "x1",
          "y": 2,
          "yref": "y1"
         },
         {
          "align": "left",
          "font": {
           "color": "#000000"
          },
          "showarrow": false,
          "text": "25327",
          "x": 0.55,
          "xanchor": "left",
          "xref": "x1",
          "y": 2,
          "yref": "y1"
         },
         {
          "align": "left",
          "font": {
           "color": "#000000"
          },
          "showarrow": false,
          "text": "http://www.theyamyam.net/",
          "x": -0.45,
          "xanchor": "left",
          "xref": "x1",
          "y": 3,
          "yref": "y1"
         },
         {
          "align": "left",
          "font": {
           "color": "#000000"
          },
          "showarrow": false,
          "text": "23305",
          "x": 0.55,
          "xanchor": "left",
          "xref": "x1",
          "y": 3,
          "yref": "y1"
         },
         {
          "align": "left",
          "font": {
           "color": "#000000"
          },
          "showarrow": false,
          "text": "http://www.footytube.com/",
          "x": -0.45,
          "xanchor": "left",
          "xref": "x1",
          "y": 4,
          "yref": "y1"
         },
         {
          "align": "left",
          "font": {
           "color": "#000000"
          },
          "showarrow": false,
          "text": "22273",
          "x": 0.55,
          "xanchor": "left",
          "xref": "x1",
          "y": 4,
          "yref": "y1"
         },
         {
          "align": "left",
          "font": {
           "color": "#000000"
          },
          "showarrow": false,
          "text": "http://www.bit-tech.net/",
          "x": -0.45,
          "xanchor": "left",
          "xref": "x1",
          "y": 5,
          "yref": "y1"
         },
         {
          "align": "left",
          "font": {
           "color": "#000000"
          },
          "showarrow": false,
          "text": "19622",
          "x": 0.55,
          "xanchor": "left",
          "xref": "x1",
          "y": 5,
          "yref": "y1"
         },
         {
          "align": "left",
          "font": {
           "color": "#000000"
          },
          "showarrow": false,
          "text": "http://www.sportsmole.co.uk/",
          "x": -0.45,
          "xanchor": "left",
          "xref": "x1",
          "y": 6,
          "yref": "y1"
         },
         {
          "align": "left",
          "font": {
           "color": "#000000"
          },
          "showarrow": false,
          "text": "19615",
          "x": 0.55,
          "xanchor": "left",
          "xref": "x1",
          "y": 6,
          "yref": "y1"
         },
         {
          "align": "left",
          "font": {
           "color": "#000000"
          },
          "showarrow": false,
          "text": "http://www.caithness.org/",
          "x": -0.45,
          "xanchor": "left",
          "xref": "x1",
          "y": 7,
          "yref": "y1"
         },
         {
          "align": "left",
          "font": {
           "color": "#000000"
          },
          "showarrow": false,
          "text": "19548",
          "x": 0.55,
          "xanchor": "left",
          "xref": "x1",
          "y": 7,
          "yref": "y1"
         },
         {
          "align": "left",
          "font": {
           "color": "#000000"
          },
          "showarrow": false,
          "text": "http://www.newquayvoice.co.uk/",
          "x": -0.45,
          "xanchor": "left",
          "xref": "x1",
          "y": 8,
          "yref": "y1"
         },
         {
          "align": "left",
          "font": {
           "color": "#000000"
          },
          "showarrow": false,
          "text": "19221",
          "x": 0.55,
          "xanchor": "left",
          "xref": "x1",
          "y": 8,
          "yref": "y1"
         },
         {
          "align": "left",
          "font": {
           "color": "#000000"
          },
          "showarrow": false,
          "text": "http://www.chronicleseries.com/",
          "x": -0.45,
          "xanchor": "left",
          "xref": "x1",
          "y": 9,
          "yref": "y1"
         },
         {
          "align": "left",
          "font": {
           "color": "#000000"
          },
          "showarrow": false,
          "text": "16247",
          "x": 0.55,
          "xanchor": "left",
          "xref": "x1",
          "y": 9,
          "yref": "y1"
         },
         {
          "align": "left",
          "font": {
           "color": "#000000"
          },
          "showarrow": false,
          "text": "http://uk.pcmag.com/",
          "x": -0.45,
          "xanchor": "left",
          "xref": "x1",
          "y": 10,
          "yref": "y1"
         },
         {
          "align": "left",
          "font": {
           "color": "#000000"
          },
          "showarrow": false,
          "text": "13883",
          "x": 0.55,
          "xanchor": "left",
          "xref": "x1",
          "y": 10,
          "yref": "y1"
         },
         {
          "align": "left",
          "font": {
           "color": "#000000"
          },
          "showarrow": false,
          "text": "http://www.prima.co.uk/",
          "x": -0.45,
          "xanchor": "left",
          "xref": "x1",
          "y": 11,
          "yref": "y1"
         },
         {
          "align": "left",
          "font": {
           "color": "#000000"
          },
          "showarrow": false,
          "text": "13587",
          "x": 0.55,
          "xanchor": "left",
          "xref": "x1",
          "y": 11,
          "yref": "y1"
         },
         {
          "align": "left",
          "font": {
           "color": "#000000"
          },
          "showarrow": false,
          "text": "http://www.wiganworld.co.uk/",
          "x": -0.45,
          "xanchor": "left",
          "xref": "x1",
          "y": 12,
          "yref": "y1"
         },
         {
          "align": "left",
          "font": {
           "color": "#000000"
          },
          "showarrow": false,
          "text": "13448",
          "x": 0.55,
          "xanchor": "left",
          "xref": "x1",
          "y": 12,
          "yref": "y1"
         },
         {
          "align": "left",
          "font": {
           "color": "#000000"
          },
          "showarrow": false,
          "text": "https://adriancolston.wordpress.com/",
          "x": -0.45,
          "xanchor": "left",
          "xref": "x1",
          "y": 13,
          "yref": "y1"
         },
         {
          "align": "left",
          "font": {
           "color": "#000000"
          },
          "showarrow": false,
          "text": "12960",
          "x": 0.55,
          "xanchor": "left",
          "xref": "x1",
          "y": 13,
          "yref": "y1"
         },
         {
          "align": "left",
          "font": {
           "color": "#000000"
          },
          "showarrow": false,
          "text": "http://www.banglamirrornews.com/",
          "x": -0.45,
          "xanchor": "left",
          "xref": "x1",
          "y": 14,
          "yref": "y1"
         },
         {
          "align": "left",
          "font": {
           "color": "#000000"
          },
          "showarrow": false,
          "text": "12807",
          "x": 0.55,
          "xanchor": "left",
          "xref": "x1",
          "y": 14,
          "yref": "y1"
         },
         {
          "align": "left",
          "font": {
           "color": "#000000"
          },
          "showarrow": false,
          "text": "http://www.theecologist.org/",
          "x": -0.45,
          "xanchor": "left",
          "xref": "x1",
          "y": 15,
          "yref": "y1"
         },
         {
          "align": "left",
          "font": {
           "color": "#000000"
          },
          "showarrow": false,
          "text": "12666",
          "x": 0.55,
          "xanchor": "left",
          "xref": "x1",
          "y": 15,
          "yref": "y1"
         },
         {
          "align": "left",
          "font": {
           "color": "#000000"
          },
          "showarrow": false,
          "text": "http://blog.wellcome.ac.uk/",
          "x": -0.45,
          "xanchor": "left",
          "xref": "x1",
          "y": 16,
          "yref": "y1"
         },
         {
          "align": "left",
          "font": {
           "color": "#000000"
          },
          "showarrow": false,
          "text": "12169",
          "x": 0.55,
          "xanchor": "left",
          "xref": "x1",
          "y": 16,
          "yref": "y1"
         },
         {
          "align": "left",
          "font": {
           "color": "#000000"
          },
          "showarrow": false,
          "text": "http://www.bbc.co.uk/news/uk-scotland-29504822",
          "x": -0.45,
          "xanchor": "left",
          "xref": "x1",
          "y": 17,
          "yref": "y1"
         },
         {
          "align": "left",
          "font": {
           "color": "#000000"
          },
          "showarrow": false,
          "text": "12151",
          "x": 0.55,
          "xanchor": "left",
          "xref": "x1",
          "y": 17,
          "yref": "y1"
         },
         {
          "align": "left",
          "font": {
           "color": "#000000"
          },
          "showarrow": false,
          "text": "http://www.wymondhamandattleboroughmercury.co.uk/home",
          "x": -0.45,
          "xanchor": "left",
          "xref": "x1",
          "y": 18,
          "yref": "y1"
         },
         {
          "align": "left",
          "font": {
           "color": "#000000"
          },
          "showarrow": false,
          "text": "12089",
          "x": 0.55,
          "xanchor": "left",
          "xref": "x1",
          "y": 18,
          "yref": "y1"
         },
         {
          "align": "left",
          "font": {
           "color": "#000000"
          },
          "showarrow": false,
          "text": "http://www.practicalcaravan.com/",
          "x": -0.45,
          "xanchor": "left",
          "xref": "x1",
          "y": 19,
          "yref": "y1"
         },
         {
          "align": "left",
          "font": {
           "color": "#000000"
          },
          "showarrow": false,
          "text": "11643",
          "x": 0.55,
          "xanchor": "left",
          "xref": "x1",
          "y": 19,
          "yref": "y1"
         },
         {
          "align": "left",
          "font": {
           "color": "#000000"
          },
          "showarrow": false,
          "text": "http://www.theweek.co.uk/",
          "x": -0.45,
          "xanchor": "left",
          "xref": "x1",
          "y": 20,
          "yref": "y1"
         },
         {
          "align": "left",
          "font": {
           "color": "#000000"
          },
          "showarrow": false,
          "text": "11459",
          "x": 0.55,
          "xanchor": "left",
          "xref": "x1",
          "y": 20,
          "yref": "y1"
         }
        ],
        "height": 680,
        "margin": {
         "b": 0,
         "l": 0,
         "r": 0,
         "t": 0
        },
        "xaxis": {
         "dtick": 1,
         "gridwidth": 2,
         "showticklabels": false,
         "tick0": -0.5,
         "ticks": "",
         "zeroline": false
        },
        "yaxis": {
         "autorange": "reversed",
         "dtick": 1,
         "gridwidth": 2,
         "showticklabels": false,
         "tick0": 0.5,
         "ticks": "",
         "zeroline": false
        }
       }
      },
      "text/html": [
       "<div id=\"cb75d7c4-0f5f-4f7d-942d-7fc02d73ce5e\" style=\"height: 680px; width: 100%;\" class=\"plotly-graph-div\"></div><script type=\"text/javascript\">require([\"plotly\"], function(Plotly) { window.PLOTLYENV=window.PLOTLYENV || {};window.PLOTLYENV.BASE_URL=\"https://plot.ly\";Plotly.newPlot(\"cb75d7c4-0f5f-4f7d-942d-7fc02d73ce5e\", [{\"opacity\": 0.75, \"colorscale\": [[0, \"#00083e\"], [0.5, \"#ededee\"], [1, \"#ffffff\"]], \"showscale\": false, \"hoverinfo\": \"none\", \"z\": [[0, 0], [0.5, 0.5], [1, 1], [0.5, 0.5], [1, 1], [0.5, 0.5], [1, 1], [0.5, 0.5], [1, 1], [0.5, 0.5], [1, 1], [0.5, 0.5], [1, 1], [0.5, 0.5], [1, 1], [0.5, 0.5], [1, 1], [0.5, 0.5], [1, 1], [0.5, 0.5], [1, 1]], \"type\": \"heatmap\"}], {\"yaxis\": {\"showticklabels\": false, \"tick0\": 0.5, \"ticks\": \"\", \"gridwidth\": 2, \"dtick\": 1, \"zeroline\": false, \"autorange\": \"reversed\"}, \"margin\": {\"r\": 0, \"b\": 0, \"l\": 0, \"t\": 0}, \"annotations\": [{\"xref\": \"x1\", \"xanchor\": \"left\", \"yref\": \"y1\", \"text\": \"<b>Seed</b>\", \"align\": \"left\", \"y\": 0, \"x\": -0.45, \"font\": {\"color\": \"#ffffff\"}, \"showarrow\": false}, {\"xref\": \"x1\", \"xanchor\": \"left\", \"yref\": \"y1\", \"text\": \"<b>Total Hits</b>\", \"align\": \"left\", \"y\": 0, \"x\": 0.55, \"font\": {\"color\": \"#ffffff\"}, \"showarrow\": false}, {\"xref\": \"x1\", \"xanchor\": \"left\", \"yref\": \"y1\", \"text\": \"-\", \"align\": \"left\", \"y\": 1, \"x\": -0.45, \"font\": {\"color\": \"#000000\"}, \"showarrow\": false}, {\"xref\": \"x1\", \"xanchor\": \"left\", \"yref\": \"y1\", \"text\": \"44817\", \"align\": \"left\", \"y\": 1, \"x\": 0.55, \"font\": {\"color\": \"#000000\"}, \"showarrow\": false}, {\"xref\": \"x1\", \"xanchor\": \"left\", \"yref\": \"y1\", \"text\": \"http://www.bloggers4ukip.org.uk/\", \"align\": \"left\", \"y\": 2, \"x\": -0.45, \"font\": {\"color\": \"#000000\"}, \"showarrow\": false}, {\"xref\": \"x1\", \"xanchor\": \"left\", \"yref\": \"y1\", \"text\": \"25327\", \"align\": \"left\", \"y\": 2, \"x\": 0.55, \"font\": {\"color\": \"#000000\"}, \"showarrow\": false}, {\"xref\": \"x1\", \"xanchor\": \"left\", \"yref\": \"y1\", \"text\": \"http://www.theyamyam.net/\", \"align\": \"left\", \"y\": 3, \"x\": -0.45, \"font\": {\"color\": \"#000000\"}, \"showarrow\": false}, {\"xref\": \"x1\", \"xanchor\": \"left\", \"yref\": \"y1\", \"text\": \"23305\", \"align\": \"left\", \"y\": 3, \"x\": 0.55, \"font\": {\"color\": \"#000000\"}, \"showarrow\": false}, {\"xref\": \"x1\", \"xanchor\": \"left\", \"yref\": \"y1\", \"text\": \"http://www.footytube.com/\", \"align\": \"left\", \"y\": 4, \"x\": -0.45, \"font\": {\"color\": \"#000000\"}, \"showarrow\": false}, {\"xref\": \"x1\", \"xanchor\": \"left\", \"yref\": \"y1\", \"text\": \"22273\", \"align\": \"left\", \"y\": 4, \"x\": 0.55, \"font\": {\"color\": \"#000000\"}, \"showarrow\": false}, {\"xref\": \"x1\", \"xanchor\": \"left\", \"yref\": \"y1\", \"text\": \"http://www.bit-tech.net/\", \"align\": \"left\", \"y\": 5, \"x\": -0.45, \"font\": {\"color\": \"#000000\"}, \"showarrow\": false}, {\"xref\": \"x1\", \"xanchor\": \"left\", \"yref\": \"y1\", \"text\": \"19622\", \"align\": \"left\", \"y\": 5, \"x\": 0.55, \"font\": {\"color\": \"#000000\"}, \"showarrow\": false}, {\"xref\": \"x1\", \"xanchor\": \"left\", \"yref\": \"y1\", \"text\": \"http://www.sportsmole.co.uk/\", \"align\": \"left\", \"y\": 6, \"x\": -0.45, \"font\": {\"color\": \"#000000\"}, \"showarrow\": false}, {\"xref\": \"x1\", \"xanchor\": \"left\", \"yref\": \"y1\", \"text\": \"19615\", \"align\": \"left\", \"y\": 6, \"x\": 0.55, \"font\": {\"color\": \"#000000\"}, \"showarrow\": false}, {\"xref\": \"x1\", \"xanchor\": \"left\", \"yref\": \"y1\", \"text\": \"http://www.caithness.org/\", \"align\": \"left\", \"y\": 7, \"x\": -0.45, \"font\": {\"color\": \"#000000\"}, \"showarrow\": false}, {\"xref\": \"x1\", \"xanchor\": \"left\", \"yref\": \"y1\", \"text\": \"19548\", \"align\": \"left\", \"y\": 7, \"x\": 0.55, \"font\": {\"color\": \"#000000\"}, \"showarrow\": false}, {\"xref\": \"x1\", \"xanchor\": \"left\", \"yref\": \"y1\", \"text\": \"http://www.newquayvoice.co.uk/\", \"align\": \"left\", \"y\": 8, \"x\": -0.45, \"font\": {\"color\": \"#000000\"}, \"showarrow\": false}, {\"xref\": \"x1\", \"xanchor\": \"left\", \"yref\": \"y1\", \"text\": \"19221\", \"align\": \"left\", \"y\": 8, \"x\": 0.55, \"font\": {\"color\": \"#000000\"}, \"showarrow\": false}, {\"xref\": \"x1\", \"xanchor\": \"left\", \"yref\": \"y1\", \"text\": \"http://www.chronicleseries.com/\", \"align\": \"left\", \"y\": 9, \"x\": -0.45, \"font\": {\"color\": \"#000000\"}, \"showarrow\": false}, {\"xref\": \"x1\", \"xanchor\": \"left\", \"yref\": \"y1\", \"text\": \"16247\", \"align\": \"left\", \"y\": 9, \"x\": 0.55, \"font\": {\"color\": \"#000000\"}, \"showarrow\": false}, {\"xref\": \"x1\", \"xanchor\": \"left\", \"yref\": \"y1\", \"text\": \"http://uk.pcmag.com/\", \"align\": \"left\", \"y\": 10, \"x\": -0.45, \"font\": {\"color\": \"#000000\"}, \"showarrow\": false}, {\"xref\": \"x1\", \"xanchor\": \"left\", \"yref\": \"y1\", \"text\": \"13883\", \"align\": \"left\", \"y\": 10, \"x\": 0.55, \"font\": {\"color\": \"#000000\"}, \"showarrow\": false}, {\"xref\": \"x1\", \"xanchor\": \"left\", \"yref\": \"y1\", \"text\": \"http://www.prima.co.uk/\", \"align\": \"left\", \"y\": 11, \"x\": -0.45, \"font\": {\"color\": \"#000000\"}, \"showarrow\": false}, {\"xref\": \"x1\", \"xanchor\": \"left\", \"yref\": \"y1\", \"text\": \"13587\", \"align\": \"left\", \"y\": 11, \"x\": 0.55, \"font\": {\"color\": \"#000000\"}, \"showarrow\": false}, {\"xref\": \"x1\", \"xanchor\": \"left\", \"yref\": \"y1\", \"text\": \"http://www.wiganworld.co.uk/\", \"align\": \"left\", \"y\": 12, \"x\": -0.45, \"font\": {\"color\": \"#000000\"}, \"showarrow\": false}, {\"xref\": \"x1\", \"xanchor\": \"left\", \"yref\": \"y1\", \"text\": \"13448\", \"align\": \"left\", \"y\": 12, \"x\": 0.55, \"font\": {\"color\": \"#000000\"}, \"showarrow\": false}, {\"xref\": \"x1\", \"xanchor\": \"left\", \"yref\": \"y1\", \"text\": \"https://adriancolston.wordpress.com/\", \"align\": \"left\", \"y\": 13, \"x\": -0.45, \"font\": {\"color\": \"#000000\"}, \"showarrow\": false}, {\"xref\": \"x1\", \"xanchor\": \"left\", \"yref\": \"y1\", \"text\": \"12960\", \"align\": \"left\", \"y\": 13, \"x\": 0.55, \"font\": {\"color\": \"#000000\"}, \"showarrow\": false}, {\"xref\": \"x1\", \"xanchor\": \"left\", \"yref\": \"y1\", \"text\": \"http://www.banglamirrornews.com/\", \"align\": \"left\", \"y\": 14, \"x\": -0.45, \"font\": {\"color\": \"#000000\"}, \"showarrow\": false}, {\"xref\": \"x1\", \"xanchor\": \"left\", \"yref\": \"y1\", \"text\": \"12807\", \"align\": \"left\", \"y\": 14, \"x\": 0.55, \"font\": {\"color\": \"#000000\"}, \"showarrow\": false}, {\"xref\": \"x1\", \"xanchor\": \"left\", \"yref\": \"y1\", \"text\": \"http://www.theecologist.org/\", \"align\": \"left\", \"y\": 15, \"x\": -0.45, \"font\": {\"color\": \"#000000\"}, \"showarrow\": false}, {\"xref\": \"x1\", \"xanchor\": \"left\", \"yref\": \"y1\", \"text\": \"12666\", \"align\": \"left\", \"y\": 15, \"x\": 0.55, \"font\": {\"color\": \"#000000\"}, \"showarrow\": false}, {\"xref\": \"x1\", \"xanchor\": \"left\", \"yref\": \"y1\", \"text\": \"http://blog.wellcome.ac.uk/\", \"align\": \"left\", \"y\": 16, \"x\": -0.45, \"font\": {\"color\": \"#000000\"}, \"showarrow\": false}, {\"xref\": \"x1\", \"xanchor\": \"left\", \"yref\": \"y1\", \"text\": \"12169\", \"align\": \"left\", \"y\": 16, \"x\": 0.55, \"font\": {\"color\": \"#000000\"}, \"showarrow\": false}, {\"xref\": \"x1\", \"xanchor\": \"left\", \"yref\": \"y1\", \"text\": \"http://www.bbc.co.uk/news/uk-scotland-29504822\", \"align\": \"left\", \"y\": 17, \"x\": -0.45, \"font\": {\"color\": \"#000000\"}, \"showarrow\": false}, {\"xref\": \"x1\", \"xanchor\": \"left\", \"yref\": \"y1\", \"text\": \"12151\", \"align\": \"left\", \"y\": 17, \"x\": 0.55, \"font\": {\"color\": \"#000000\"}, \"showarrow\": false}, {\"xref\": \"x1\", \"xanchor\": \"left\", \"yref\": \"y1\", \"text\": \"http://www.wymondhamandattleboroughmercury.co.uk/home\", \"align\": \"left\", \"y\": 18, \"x\": -0.45, \"font\": {\"color\": \"#000000\"}, \"showarrow\": false}, {\"xref\": \"x1\", \"xanchor\": \"left\", \"yref\": \"y1\", \"text\": \"12089\", \"align\": \"left\", \"y\": 18, \"x\": 0.55, \"font\": {\"color\": \"#000000\"}, \"showarrow\": false}, {\"xref\": \"x1\", \"xanchor\": \"left\", \"yref\": \"y1\", \"text\": \"http://www.practicalcaravan.com/\", \"align\": \"left\", \"y\": 19, \"x\": -0.45, \"font\": {\"color\": \"#000000\"}, \"showarrow\": false}, {\"xref\": \"x1\", \"xanchor\": \"left\", \"yref\": \"y1\", \"text\": \"11643\", \"align\": \"left\", \"y\": 19, \"x\": 0.55, \"font\": {\"color\": \"#000000\"}, \"showarrow\": false}, {\"xref\": \"x1\", \"xanchor\": \"left\", \"yref\": \"y1\", \"text\": \"http://www.theweek.co.uk/\", \"align\": \"left\", \"y\": 20, \"x\": -0.45, \"font\": {\"color\": \"#000000\"}, \"showarrow\": false}, {\"xref\": \"x1\", \"xanchor\": \"left\", \"yref\": \"y1\", \"text\": \"11459\", \"align\": \"left\", \"y\": 20, \"x\": 0.55, \"font\": {\"color\": \"#000000\"}, \"showarrow\": false}], \"xaxis\": {\"showticklabels\": false, \"tick0\": -0.5, \"ticks\": \"\", \"gridwidth\": 2, \"dtick\": 1, \"zeroline\": false}, \"height\": 680}, {\"linkText\": \"Export to plot.ly\", \"showLink\": true})});</script>"
      ]
     },
     "metadata": {},
     "output_type": "display_data"
    }
   ],
   "source": [
    "sources = {}\n",
    "order_by_lines = {}\n",
    "with open(summary_file) as f:\n",
    "    for line in f:\n",
    "        key, json_str = re.split('\\t', line, maxsplit=1)\n",
    "        if key.startswith(\"BY-SOURCE\"):\n",
    "            tag, source = re.split(' ', key, maxsplit=1)\n",
    "            stats = json.loads(json_str)\n",
    "            sources[source] = stats\n",
    "            order_by_lines[source] = stats['lines']\n",
    "            if len(sources) <= 1:\n",
    "                for stat in stats:\n",
    "                    if not stat.startswith('source:') and not stat.startswith('ip:') and not stat.startswith('content_type:') and not stat.startswith('status_code:'):\n",
    "                        print stat, stats[stat]\n",
    "                        \n",
    "#            data_matrix = [\n",
    "#                        ['Seed', source],\n",
    "#                        ['Total Crawl Events', stats['lines']],\n",
    "#                        ['Deduplicated', stats.get('duplicate:digest','-')]\n",
    "#                       ]\n",
    "#            table = FF.create_table(data_matrix)\n",
    "#            table.layout.update({'title': 'Summary statistics for %s' % source})\n",
    "#            py.iplot(table, filename='simple_table')\n",
    "#            if len(sources) == 3:\n",
    "#                break\n",
    "\n",
    "# Extract top fives:\n",
    "print(\"TOP...\")\n",
    "data_matrix = []\n",
    "data_matrix.append(['Seed', 'Total Hits'])\n",
    "top_sources = sorted(order_by_lines, key=order_by_lines.get, reverse=True)[:20]\n",
    "print(sources[top_sources[19]])\n",
    "for source in top_sources:\n",
    "    data_matrix.append([source,sources[source]['lines']])\n",
    "\n",
    "table = FF.create_table(data_matrix)\n",
    "py.iplot(table)\n",
    "\n",
    "\n"
   ]
  },
  {
   "cell_type": "code",
   "execution_count": 82,
   "metadata": {
    "collapsed": false,
    "deletable": true,
    "editable": true
   },
   "outputs": [
    {
     "name": "stdout",
     "output_type": "stream",
     "text": [
      "Help on function iplot in module plotly.offline.offline:\n",
      "\n",
      "iplot(figure_or_data, show_link=True, link_text='Export to plot.ly', validate=True, image=None, filename='plot_image', image_width=800, image_height=600)\n",
      "    Draw plotly graphs inside an IPython or Jupyter notebook without\n",
      "    connecting to an external server.\n",
      "    To save the chart to Plotly Cloud or Plotly Enterprise, use\n",
      "    `plotly.plotly.iplot`.\n",
      "    To embed an image of the chart, use `plotly.image.ishow`.\n",
      "    \n",
      "    figure_or_data -- a plotly.graph_objs.Figure or plotly.graph_objs.Data or\n",
      "                      dict or list that describes a Plotly graph.\n",
      "                      See https://plot.ly/python/ for examples of\n",
      "                      graph descriptions.\n",
      "    \n",
      "    Keyword arguments:\n",
      "    show_link (default=True) -- display a link in the bottom-right corner of\n",
      "                                of the chart that will export the chart to\n",
      "                                Plotly Cloud or Plotly Enterprise\n",
      "    link_text (default='Export to plot.ly') -- the text of export link\n",
      "    validate (default=True) -- validate that all of the keys in the figure\n",
      "                               are valid? omit if your version of plotly.js\n",
      "                               has become outdated with your version of\n",
      "                               graph_reference.json or if you need to include\n",
      "                               extra, unnecessary keys in your figure.\n",
      "    image (default=None |'png' |'jpeg' |'svg' |'webp') -- This parameter sets\n",
      "        the format of the image to be downloaded, if we choose to download an\n",
      "        image. This parameter has a default value of None indicating that no\n",
      "        image should be downloaded. Please note: for higher resolution images\n",
      "        and more export options, consider making requests to our image servers.\n",
      "        Type: `help(py.image)` for more details.\n",
      "    filename (default='plot') -- Sets the name of the file your image\n",
      "        will be saved to. The extension should not be included.\n",
      "    image_height (default=600) -- Specifies the height of the image in `px`.\n",
      "    image_width (default=800) -- Specifies the width of the image in `px`.\n",
      "    \n",
      "    Example:\n",
      "    ```\n",
      "    from plotly.offline import init_notebook_mode, iplot\n",
      "    init_notebook_mode()\n",
      "    iplot([{'x': [1, 2, 3], 'y': [5, 2, 7]}])\n",
      "    # We can also download an image of the plot by setting the image to the\n",
      "    format you want. e.g. `image='png'`\n",
      "    iplot([{'x': [1, 2, 3], 'y': [5, 2, 7]}], image='png')\n",
      "    ```\n",
      "\n"
     ]
    }
   ],
   "source": [
    "help(py.iplot)"
   ]
  },
  {
   "cell_type": "code",
   "execution_count": null,
   "metadata": {
    "collapsed": true
   },
   "outputs": [],
   "source": []
  }
 ],
 "metadata": {
  "kernelspec": {
   "display_name": "Python 2",
   "language": "python",
   "name": "python2"
  },
  "language_info": {
   "codemirror_mode": {
    "name": "ipython",
    "version": 2
   },
   "file_extension": ".py",
   "mimetype": "text/x-python",
   "name": "python",
   "nbconvert_exporter": "python",
   "pygments_lexer": "ipython2",
   "version": "2.7.12"
  }
 },
 "nbformat": 4,
 "nbformat_minor": 2
}
